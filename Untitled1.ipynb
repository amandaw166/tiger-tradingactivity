{
 "cells": [
  {
   "cell_type": "code",
   "execution_count": 9,
   "metadata": {},
   "outputs": [],
   "source": [
    "import pandas as pd\n",
    "import numpy as np\n",
    "import csv\n",
    "import matplotlib.pyplot as plt\n",
    "import warnings\n",
    "\n",
    "# Define CSV files, replace as needed\n",
    "EXT870_dayone = \"EXT870_2GU_20200706.CSV\"\n",
    "EXT871_dayone = \"EXT871_2GU_218076_20200706.CSV\"\n",
    "EXT872_dayone = \"EXT872_2GU_218077_20200706.CSV\"\n",
    "\n",
    "EXT870_daytwo = \"EXT870_2GU_20200707.CSV\"\n",
    "EXT871_daytwo = \"EXT871_2GU_218076_20200707.CSV\"\n",
    "EXT872_daytwo = \"EXT872_2GU_218077_20200707.CSV\"\n",
    "\n",
    "\n",
    "# Read in CSV file from each date\n",
    "df_870_dayone = pd.read_csv(EXT870_0706)\n",
    "df_871_dayone = pd.read_csv(EXT871_0706)\n",
    "df_872_dayone = pd.read_csv(EXT872_0706)\n",
    "\n",
    "df_870_daytwo = pd.read_csv(EXT870_0707)\n",
    "df_871_daytwo = pd.read_csv(EXT871_0707)\n",
    "df_872_daytwo = pd.read_csv(EXT872_0707)"
   ]
  },
  {
   "cell_type": "code",
   "execution_count": 14,
   "metadata": {
    "scrolled": true
   },
   "outputs": [
    {
     "name": "stdout",
     "output_type": "stream",
     "text": [
      "Listed are the predictions of the second day based on sum of the EXT871 of the first day, EXT870 of the second day, and the EXT 872 of the second day. Entries are organized by the same AccountNumber, AccountType, and Cusip.\n",
      "  AccountNumber AccountType      Cusip   Quantity\n",
      "0      2GU05003           1  781314109   604893.0\n",
      "1      2GU05003           1  91531W106  5939538.0\n"
     ]
    }
   ],
   "source": [
    "# Organize EXT files based on AccountNumber, Account Type, Cusip, Quantity\n",
    "# Logic of prediction position = EXT871 of DayOne + EXT 870 of DayTwo + EXT 872 of Day Two  \n",
    "# Example: EXT871 of 7/6/2020 + EXT 870 of 7/7/2020 + EXT 872 of 7/7/2020 \n",
    "df1 = df_870_daytwo[['AccountNumber', 'AccountType', 'Cusip', 'Quantity']].groupby(['AccountNumber', 'AccountType', 'Cusip']).sum().reset_index()\n",
    "df2 = df_871_dayone[['AccountNumber', 'AccountType', 'Cusip', 'Quantity']].groupby(['AccountNumber', 'AccountType', 'Cusip']).sum().reset_index()\n",
    "df3 = df_872_daytwo[['AccountNumber', 'AccountType', 'Cusip', 'Quantity']].groupby(['AccountNumber', 'AccountType', 'Cusip']).sum().reset_index()\n",
    "\n",
    "df3['AccountType'] = df3['AccountType'].astype('str')\n",
    "\n",
    "#Merge 870 and 871 files and add the Quantity columns\n",
    "#IT Suggestion:\n",
    "#df_1_2 = pd.merge(df1, df2, on = ['AccountNumber', 'AccountType', 'Cusip'], how ='outer')\n",
    "df_1_2 = pd.merge(df1, df2, on = ['AccountNumber', 'AccountType', 'Cusip'])\n",
    "df_1_2['Quantity'] = df_1_2['Quantity_x'] + df_1_2['Quantity_y']\n",
    "df_1_2 = df_1_2.drop(columns = ['Quantity_x', 'Quantity_y'])\n",
    "\n",
    "#Merge the 872 file, also add the Quantity column\n",
    "#IT Suggestion:\n",
    "#df_all = pd.merge(df_1_2, df3, on = ['AccountNumber', 'AccountType', 'Cusip'], how ='outer')\n",
    "df_all = pd.merge(df_1_2, df3, on = ['AccountNumber', 'AccountType', 'Cusip'])\n",
    "df_all['Quantity'] = df_all['Quantity_x'] + df_all['Quantity_y']\n",
    "df_all = df_all.drop(columns = ['Quantity_x', 'Quantity_y'])\n",
    "\n",
    "#print the dataframe with the prediction\n",
    "print(\"Listed are the predictions of the second day based on sum of the EXT871 of the first day, EXT870 of the second day, and the EXT 872 of the second day. Entries are organized by the same AccountNumber, AccountType, and Cusip.\" )\n",
    "print(df_all)"
   ]
  },
  {
   "cell_type": "code",
   "execution_count": 1,
   "metadata": {},
   "outputs": [],
   "source": []
  },
  {
   "cell_type": "code",
   "execution_count": null,
   "metadata": {},
   "outputs": [],
   "source": []
  }
 ],
 "metadata": {
  "kernelspec": {
   "display_name": "Python 3",
   "language": "python",
   "name": "python3"
  },
  "language_info": {
   "codemirror_mode": {
    "name": "ipython",
    "version": 3
   },
   "file_extension": ".py",
   "mimetype": "text/x-python",
   "name": "python",
   "nbconvert_exporter": "python",
   "pygments_lexer": "ipython3",
   "version": "3.7.6"
  }
 },
 "nbformat": 4,
 "nbformat_minor": 4
}
